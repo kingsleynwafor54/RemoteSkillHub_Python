{
  "nbformat": 4,
  "nbformat_minor": 0,
  "metadata": {
    "colab": {
      "provenance": [],
      "authorship_tag": "ABX9TyP6gCcYZrGfEaeJ2HkKhndH",
      "include_colab_link": true
    },
    "kernelspec": {
      "name": "python3",
      "display_name": "Python 3"
    },
    "language_info": {
      "name": "python"
    }
  },
  "cells": [
    {
      "cell_type": "markdown",
      "metadata": {
        "id": "view-in-github",
        "colab_type": "text"
      },
      "source": [
        "<a href=\"https://colab.research.google.com/github/kingsleynwafor54/RemoteSkillHub_Python/blob/main/AI%26AutomationPractice2.ipynb\" target=\"_parent\"><img src=\"https://colab.research.google.com/assets/colab-badge.svg\" alt=\"Open In Colab\"/></a>"
      ]
    },
    {
      "cell_type": "markdown",
      "source": [
        "# 🧠 Python Practice Projects (Level 2)\n",
        "\n",
        "Welcome back!  \n",
        "You’ve done great with your first mini projects — now let’s build more logic-based programs.\n",
        "\n",
        "Projects included:\n",
        "1. 🎮 Tic-Tac-Toe (2 Player)\n",
        "2. 🔁 Palindrome Checker\n",
        "3. 🧮 Factorial Calculator\n",
        "4. 🔢 Fibonacci Sequence Generator\n",
        "5. 🔤 Word Counter\n",
        "\n",
        "---\n",
        "\n",
        "## 🎮 1. Tic-Tac-Toe (2 Player Game)\n",
        "\n",
        "Let’s make a simple console-based Tic-Tac-Toe game for two players.\n",
        "\n",
        "```python\n",
        "# Tic-Tac-Toe (2 Player)\n",
        "def print_board(board):\n",
        "    for row in board:\n",
        "        print(\" | \".join(row))\n",
        "        print(\"-\" * 5)\n",
        "\n",
        "def check_winner(board, player):\n",
        "    # Check rows, columns, diagonals\n",
        "    for i in range(3):\n",
        "        if all(board[i][j] == player for j in range(3)) or \\\n",
        "           all(board[j][i] == player for j in range(3)):\n",
        "            return True\n",
        "    if board[0][0] == board[1][1] ==  board[2][2] == player or \\\n",
        "       board[0][2] == board[1][1] == board[2][0] == player:\n",
        "        return True\n",
        "    return False\n",
        "\n",
        "def tic_tac_toe():\n",
        "    board = [[\" \" for _ in range(3)] for _ in range(3)]\n",
        "    player = \"X\"\n",
        "\n",
        "    for _ in range(9):\n",
        "        print_board(board)\n",
        "        print(f\"Player {player}'s turn.\")\n",
        "        row = int(input(\"Enter row (0, 1, 2): \"))\n",
        "        col = int(input(\"Enter column (0, 1, 2): \"))\n",
        "\n",
        "        if board[row][col] == \" \":\n",
        "            board[row][col] = player\n",
        "        else:\n",
        "            print(\"That spot is taken! Try again.\")\n",
        "            continue\n",
        "\n",
        "        if check_winner(board, player):\n",
        "            print_board(board)\n",
        "            print(f\"🎉 Player {player} wins!\")\n",
        "            return\n",
        "\n",
        "        player = \"O\" if player == \"X\" else \"X\"\n",
        "\n",
        "    print_board(board)\n",
        "    print(\"It's a tie!\")\n",
        "\n",
        "tic_tac_toe()\n",
        "🔁 2. Palindrome Checker\n",
        "A palindrome is a word or phrase that reads the same backward as forward.\n",
        "Examples: madam, racecar, level.\n",
        "\n",
        "\n",
        "def is_palindrome(word):\n",
        "    cleaned = word.replace(\" \", \"\").lower()\n",
        "    return cleaned == cleaned[::-1]\n",
        "\n",
        "# Try it!\n",
        "text = input(\"Enter a word or phrase: \")\n",
        "if is_palindrome(text):\n",
        "    print(\"✅ It's a palindrome!\")\n",
        "else:\n",
        "    print(\"❌ Not a palindrome.\")\n",
        "🧮 3. Factorial Calculator\n",
        "The factorial of a number is the product of all positive integers up to that number.\n",
        "Example: 5! = 5 × 4 × 3 × 2 × 1 = 120\n",
        "\n",
        "\n",
        "def factorial(n):\n",
        "    if n == 0 or n == 1:\n",
        "        return 1\n",
        "    else:\n",
        "        return n * factorial(n - 1)\n",
        "\n",
        "num = int(input(\"Enter a number: \"))\n",
        "print(f\"The factorial of {num} is {factorial(num)}\")\n",
        "🔢 4. Fibonacci Sequence Generator\n",
        "The Fibonacci sequence is:\n",
        "0, 1, 1, 2, 3, 5, 8, 13, …\n",
        "\n",
        "\n",
        "def fibonacci(n):\n",
        "    a, b = 0, 1\n",
        "    for _ in range(n):\n",
        "        print(a, end=\" \")\n",
        "        a, b = b, a + b\n",
        "\n",
        "n_terms = int(input(\"How many terms do you want? \"))\n",
        "fibonacci(n_terms)\n",
        "🔤 5. Word Counter\n",
        "Counts how many words are in a sentence — great for text processing!\n",
        "\n",
        "python\n",
        "Copy code\n",
        "def word_counter(sentence):\n",
        "    words = sentence.split()\n",
        "    return len(words)\n",
        "\n",
        "text = input(\"Enter a sentence: \")\n",
        "print(f\"🧮 Total words: {word_counter(text)}\")\n",
        "🏁 Summary\n",
        "✅ You just built:\n",
        "\n",
        "🎮 Tic-Tac-Toe (logic + loops + conditions)\n",
        "\n",
        "🔁 Palindrome Checker (string manipulation)\n",
        "\n",
        "🧮 Factorial Calculator (recursion)\n",
        "\n",
        "🔢 Fibonacci Generator (loops)\n",
        "\n",
        "🔤 Word Counter (text processing)"
      ],
      "metadata": {
        "id": "xjCVIeCN8jdl"
      }
    },
    {
      "cell_type": "code",
      "execution_count": 23,
      "metadata": {
        "id": "hGRzSA_18eUK"
      },
      "outputs": [],
      "source": [
        "def factorial(n):\n",
        "    if n == 0 or n == 1:\n",
        "        return 1\n",
        "    else:\n",
        "      return n*factorial(n-1)"
      ]
    },
    {
      "cell_type": "code",
      "source": [
        "factorial(5)"
      ],
      "metadata": {
        "colab": {
          "base_uri": "https://localhost:8080/"
        },
        "id": "khZ0LHEeUgDc",
        "outputId": "f2f6a694-9733-48af-a208-4798791c6762"
      },
      "execution_count": 24,
      "outputs": [
        {
          "output_type": "execute_result",
          "data": {
            "text/plain": [
              "120"
            ]
          },
          "metadata": {},
          "execution_count": 24
        }
      ]
    },
    {
      "cell_type": "code",
      "source": [
        "def factorial(n):\n",
        "    if n == 0 or n == 1:\n",
        "        return 1\n",
        "    else:\n",
        "        return n * factorial(n - 1)"
      ],
      "metadata": {
        "id": "Bi6HbDD0Ukcf"
      },
      "execution_count": 3,
      "outputs": []
    },
    {
      "cell_type": "code",
      "source": [
        "factorial(5)"
      ],
      "metadata": {
        "colab": {
          "base_uri": "https://localhost:8080/"
        },
        "id": "EIJQhryJVs_W",
        "outputId": "d2b7d55f-91f8-40f5-bd29-67af8ab5b872"
      },
      "execution_count": 4,
      "outputs": [
        {
          "output_type": "execute_result",
          "data": {
            "text/plain": [
              "120"
            ]
          },
          "metadata": {},
          "execution_count": 4
        }
      ]
    },
    {
      "cell_type": "code",
      "source": [],
      "metadata": {
        "id": "juDOQMYWVxul"
      },
      "execution_count": null,
      "outputs": []
    }
  ]
}