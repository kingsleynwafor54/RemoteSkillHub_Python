{
  "nbformat": 4,
  "nbformat_minor": 0,
  "metadata": {
    "colab": {
      "provenance": [],
      "authorship_tag": "ABX9TyNXaebrbPJmlFQq0zO1hd16",
      "include_colab_link": true
    },
    "kernelspec": {
      "name": "python3",
      "display_name": "Python 3"
    },
    "language_info": {
      "name": "python"
    }
  },
  "cells": [
    {
      "cell_type": "markdown",
      "metadata": {
        "id": "view-in-github",
        "colab_type": "text"
      },
      "source": [
        "<a href=\"https://colab.research.google.com/github/kingsleynwafor54/RemoteSkillHub_Python/blob/main/LinearRegression.ipynb\" target=\"_parent\"><img src=\"https://colab.research.google.com/assets/colab-badge.svg\" alt=\"Open In Colab\"/></a>"
      ]
    },
    {
      "cell_type": "code",
      "execution_count": null,
      "metadata": {
        "id": "xD5IJYV7NN_J"
      },
      "outputs": [],
      "source": [
        "import pandas as pd\n",
        "from sklearn.model_selection import train_test_split\n",
        "from sklearn.linear_model import LinearRegression\n",
        "import joblib\n",
        "\n",
        "# Load dataset\n",
        "url = \"https://raw.githubusercontent.com/mwaskom/seaborn-data/master/mall_customers.csv\"\n",
        "df = pd.read_csv(url)\n",
        "\n",
        "# Preprocess\n",
        "df['Gender'] = df['Gender'].map({'Male': 0, 'Female': 1})\n",
        "X = df[['Age', 'Annual Income (k$)', 'Gender']]\n",
        "y = df['Spending Score (1-100)']\n",
        "\n",
        "# Train model\n",
        "X_train, X_test, y_train, y_test = train_test_split(X, y, test_size=0.2, random_state=42)\n",
        "model = LinearRegression()\n",
        "model.fit(X_train, y_train)\n",
        "\n",
        "# Save model\n",
        "joblib.dump(model, 'customer_spending_model.joblib')\n",
        "print(\"✅ Model saved successfully!\")\n"
      ]
    },
    {
      "cell_type": "code",
      "source": [
        "# Create DataFrame for batch predictions\n",
        "new_customers = pd.DataFrame([\n",
        "    [25, 40, 0],\n",
        "    [35, 75, 1],\n",
        "    [50, 90, 0]\n",
        "], columns=['Age', 'Annual Income (k$)', 'Gender'])\n",
        "\n",
        "predictions = loaded_model.predict(new_customers)\n",
        "new_customers['Predicted Spending'] = predictions\n",
        "print(new_customers)\n"
      ],
      "metadata": {
        "id": "7cwcV0RYQcxw"
      },
      "execution_count": null,
      "outputs": []
    },
    {
      "cell_type": "code",
      "source": [
        "from sklearn.linear_model import LinearRegression\n",
        "\n",
        "X = df[['Age', 'Annual Income (k$)', 'Gender']]\n",
        "y = df['Spending Score (1-100)']\n",
        "\n",
        "model = LinearRegression()\n",
        "model.fit(X, y)\n",
        "\n",
        "coef_df = pd.DataFrame({\n",
        "    'Feature': X.columns,\n",
        "    'Coefficient': model.coef_\n",
        "}).sort_values(by='Coefficient', ascending=False)\n",
        "\n",
        "coef_df\n"
      ],
      "metadata": {
        "id": "mEswC3eCQ7yC"
      },
      "execution_count": null,
      "outputs": []
    }
  ]
}